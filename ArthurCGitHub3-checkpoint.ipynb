{
 "cells": [
  {
   "cell_type": "code",
   "execution_count": 1,
   "metadata": {},
   "outputs": [],
   "source": [
    "import pandas as pd"
   ]
  },
  {
   "cell_type": "code",
   "execution_count": 2,
   "metadata": {},
   "outputs": [],
   "source": [
    "supplierfile=r''\n",
    "#To find the CapIQ supplier file name, look at bottom of computer where it says \"Type here to serch.\" \n",
    "# After seeing the file, click \"Copy full path.\" Then, you can paste it here. Put that entire thing in between r''\n",
    "# Example: r'C:\\Users\\acalcagnini\\Documents\\Illumination NC3\\avnethoneywell2.xlsx'"
   ]
  },
  {
   "cell_type": "code",
   "execution_count": 3,
   "metadata": {},
   "outputs": [],
   "source": [
    "filterfile=r''\n",
    "#Do same thing as above to find the excel filter file. This file should be the same every time you run this program. "
   ]
  },
  {
   "cell_type": "code",
   "execution_count": 4,
   "metadata": {},
   "outputs": [],
   "source": [
    "df1 = pd.read_excel(filterfile,sheet_name='Small Electronic Component')\n",
    "# Copy and paste correct sheet name at the end after it says sheet_name= ''  Do not change anything else. \n",
    "# Copy and paste the name below and put it inside the quotes. Do not include # sign or spaces. Ie: 'PRESSURIZER TANK AS'\n",
    "# SHEET NAMES: \n",
    "# Small Electronic Component\n",
    "# PRESSURIZER TANK AS\n",
    "# Radio Frequency Filter\n",
    "# Metal\n",
    "# COREELECTROMAGNETIC COMPONENT\n",
    "# Motorstepping\n",
    "# AC Motor \n",
    "# MIXER STAGEFREQUENCY\n",
    "# TRANSFORMERPOWER\n",
    "# OSCILLATORCRYSTAL CONTROLLED\n",
    "# SWITCHRADIO FREQUENCY --> this is for SWITCHRADIO FREQUENCY TRANSMISSION LINE\n",
    "# CIRCULATORRADIO FREQUENCY\n",
    "# TRANSFORMERRADIO FREQUENCY\n",
    "# DIVIDERPOWERRADIO FREQUENCY\n",
    "# MOTOR DRIVE ASSEMBL\n",
    "# CRYSTAL UNITQUARTZ\n",
    "# AMPLIFIERRADIO FREQUENCY\n",
    "# REACTOR\n",
    "# DEHYDRATORDESICCANTELECTRIC\n",
    "# WAVEGUIDE ASSEMBLY\n",
    "# AC Generator\n",
    "# DC Motor\n",
    "# ELECTRON TUBE\n",
    "# FREQUENCY MULTIPLIER\n",
    "# MICROCIRCUITDIGITAL LINEAR\n",
    "# MIXER RADIO FREQUENCY\n",
    "# OSCILLATOR SUBASSEMBLY\n",
    "# TRANSFORMERPULSE\n",
    "# ANTENNA SUBASSEMBLY"
   ]
  },
  {
   "cell_type": "code",
   "execution_count": 5,
   "metadata": {},
   "outputs": [],
   "source": [
    "df2=df1['Industry']"
   ]
  },
  {
   "cell_type": "code",
   "execution_count": 7,
   "metadata": {},
   "outputs": [],
   "source": [
    "df3 = pd.read_excel(supplierfile)"
   ]
  },
  {
   "cell_type": "code",
   "execution_count": 8,
   "metadata": {},
   "outputs": [],
   "source": [
    "df4 = pd.DataFrame(df3)"
   ]
  },
  {
   "cell_type": "code",
   "execution_count": 9,
   "metadata": {},
   "outputs": [],
   "source": [
    "filt = ~df4['SupplierSicIndustry'].isin(df2)"
   ]
  },
  {
   "cell_type": "code",
   "execution_count": 10,
   "metadata": {
    "scrolled": true
   },
   "outputs": [],
   "source": [
    "df5 = df4[filt]"
   ]
  },
  {
   "cell_type": "code",
   "execution_count": 11,
   "metadata": {},
   "outputs": [],
   "source": [
    "df6 = pd.read_excel(filterfile,sheet_name='Companies to Remove')"
   ]
  },
  {
   "cell_type": "code",
   "execution_count": 12,
   "metadata": {},
   "outputs": [],
   "source": [
    "df7=df6['Company Name']"
   ]
  },
  {
   "cell_type": "code",
   "execution_count": 13,
   "metadata": {},
   "outputs": [],
   "source": [
    "filt2 = ~df5['Supplier'].isin(df7)"
   ]
  },
  {
   "cell_type": "code",
   "execution_count": 14,
   "metadata": {},
   "outputs": [],
   "source": [
    "df8 = df5[filt2]"
   ]
  },
  {
   "cell_type": "code",
   "execution_count": 15,
   "metadata": {},
   "outputs": [],
   "source": [
    "df9 = pd.read_excel(filterfile,sheet_name='More to Remove')"
   ]
  },
  {
   "cell_type": "code",
   "execution_count": 16,
   "metadata": {},
   "outputs": [],
   "source": [
    "df10=df9['Company Name']"
   ]
  },
  {
   "cell_type": "code",
   "execution_count": 17,
   "metadata": {},
   "outputs": [],
   "source": [
    "filt3 = ~df8['Supplier'].isin(df10)"
   ]
  },
  {
   "cell_type": "code",
   "execution_count": 18,
   "metadata": {},
   "outputs": [],
   "source": [
    "df11 = df8[filt3]"
   ]
  },
  {
   "cell_type": "code",
   "execution_count": 19,
   "metadata": {},
   "outputs": [],
   "source": [
    "df11.to_excel(r'', index = False)\n",
    "#Change the file name to whatever you want. Keep it in the quotes. \n",
    "#If you can't find the file, go back to that search bar at the bottom that says \"Type here to search.\"   "
   ]
  },
  {
   "cell_type": "code",
   "execution_count": null,
   "metadata": {},
   "outputs": [],
   "source": []
  },
  {
   "cell_type": "code",
   "execution_count": null,
   "metadata": {},
   "outputs": [],
   "source": []
  }
 ],
 "metadata": {
  "kernelspec": {
   "display_name": "Python 3",
   "language": "python",
   "name": "python3"
  },
  "language_info": {
   "codemirror_mode": {
    "name": "ipython",
    "version": 3
   },
   "file_extension": ".py",
   "mimetype": "text/x-python",
   "name": "python",
   "nbconvert_exporter": "python",
   "pygments_lexer": "ipython3",
   "version": "3.8.3"
  }
 },
 "nbformat": 4,
 "nbformat_minor": 4
}
