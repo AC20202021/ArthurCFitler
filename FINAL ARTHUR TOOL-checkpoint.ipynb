{
 "cells": [
  {
   "cell_type": "code",
   "execution_count": 56,
   "metadata": {},
   "outputs": [],
   "source": [
    "import pandas as pd"
   ]
  },
  {
   "cell_type": "code",
   "execution_count": 57,
   "metadata": {},
   "outputs": [],
   "source": [
    "supplierfile=r'C:\\Users\\acalcagnini\\Documents\\Illumination NC3\\1stsanken.xlsx'\n",
    "#To find the CapIQ supplier file name, look at bottom of computer where it says \"Type here to serch.\" \n",
    "# After seeing the file, click \"Copy full path.\" Then, you can paste it here. Put that entire thing in between r''\n",
    "# Example: r'C:\\Users\\acalcagnini\\Documents\\NC3\\GEtracker.xlsx'"
   ]
  },
  {
   "cell_type": "code",
   "execution_count": 58,
   "metadata": {},
   "outputs": [],
   "source": [
    "filterfile=r'C:\\Users\\acalcagnini\\Documents\\Illumination NC3\\FINAL\\FilterDatabase_EAV4.xlsx'\n",
    "#Do same thing as above to find the excel filter file. This file should be the same every time you run this program."
   ]
  },
  {
   "cell_type": "code",
   "execution_count": 59,
   "metadata": {},
   "outputs": [],
   "source": [
    "df1 = pd.read_excel(filterfile,sheet_name='Small Electronic Component')\n",
    "# Copy and paste correct sheet name at the end after it says sheet_name= ''  Do not change anything else. \n",
    "# Copy and paste the name below and put it inside the quotes. Do not include # sign or spaces. Ie: 'PRESSURIZER TANK AS'\n",
    "# SHEET NAMES: \n",
    "# Small Electronic Component\n",
    "# PRESSURIZER TANK AS\n",
    "# Radio Frequency Filter\n",
    "# Metal\n",
    "# COREELECTROMAGNETIC COMPONENT\n",
    "# Motorstepping\n",
    "# AC Motor \n",
    "# MIXER STAGEFREQUENCY\n",
    "# TRANSFORMERPOWER\n",
    "# OSCILLATORCRYSTAL CONTROLLED\n",
    "# SWITCHRADIO FREQUENCY --> this is for SWITCHRADIO FREQUENCY TRANSMISSION LINE\n",
    "# CIRCULATORRADIO FREQUENCY\n",
    "# TRANSFORMERRADIO FREQUENCY\n",
    "# DIVIDERPOWERRADIO FREQUENCY\n",
    "# MOTOR DRIVE ASSEMBL\n",
    "# CRYSTAL UNITQUARTZ\n",
    "# AMPLIFIERRADIO FREQUENCY\n",
    "# REACTOR\n",
    "# DEHYDRATORDESICCANTELECTRIC\n",
    "# WAVEGUIDE ASSEMBLY\n",
    "# AC Generator\n",
    "# DC Motor\n",
    "# ELECTRON TUBE\n",
    "# FREQUENCY MULTIPLIER\n",
    "# MICROCIRCUITDIGITAL LINEAR\n",
    "# MIXER RADIO FREQUENCY\n",
    "# OSCILLATOR SUBASSEMBLY\n",
    "# TRANSFORMERPULSE\n",
    "# ANTENNA SUBASSEMBLY"
   ]
  },
  {
   "cell_type": "code",
   "execution_count": 60,
   "metadata": {},
   "outputs": [],
   "source": [
    "df2=df1['Industry']"
   ]
  },
  {
   "cell_type": "code",
   "execution_count": 61,
   "metadata": {},
   "outputs": [],
   "source": [
    "df3 = pd.read_excel(supplierfile)"
   ]
  },
  {
   "cell_type": "code",
   "execution_count": 62,
   "metadata": {},
   "outputs": [],
   "source": [
    "df4 = pd.DataFrame(df3)"
   ]
  },
  {
   "cell_type": "code",
   "execution_count": 63,
   "metadata": {},
   "outputs": [],
   "source": [
    "filt = ~df4['SupplierSicIndustry'].isin(df2)"
   ]
  },
  {
   "cell_type": "code",
   "execution_count": 64,
   "metadata": {
    "scrolled": true
   },
   "outputs": [],
   "source": [
    "df5 = df4[filt]"
   ]
  },
  {
   "cell_type": "code",
   "execution_count": 65,
   "metadata": {},
   "outputs": [],
   "source": [
    "df6 = pd.read_excel(filterfile,sheet_name='More to Remove')"
   ]
  },
  {
   "cell_type": "code",
   "execution_count": 66,
   "metadata": {},
   "outputs": [],
   "source": [
    "df7=df6['Company Name']"
   ]
  },
  {
   "cell_type": "code",
   "execution_count": 67,
   "metadata": {},
   "outputs": [],
   "source": [
    "filt2 = ~df5['Supplier'].isin(df7)"
   ]
  },
  {
   "cell_type": "code",
   "execution_count": 68,
   "metadata": {},
   "outputs": [],
   "source": [
    "df8 = df5[filt2]"
   ]
  },
  {
   "cell_type": "code",
   "execution_count": 73,
   "metadata": {},
   "outputs": [],
   "source": [
    "df8.to_excel(r'C:\\Users\\acalcagnini\\Documents\\Illumination NC3\\FINAL\\Sharepoint\\ALLEGRO MICROSYSTEMS INC_Small Electronic Component.xlsx', index = False)\n",
    "#Change the file name to whatever you want. Keep it in the quotes. \n",
    "#Example: r'C:\\Users\\acalcagnini\\Documents\\NC3\\Final\\GEtrackerNew.xlsx', index = False"
   ]
  },
  {
   "cell_type": "code",
   "execution_count": null,
   "metadata": {},
   "outputs": [],
   "source": []
  },
  {
   "cell_type": "code",
   "execution_count": null,
   "metadata": {},
   "outputs": [],
   "source": []
  }
 ],
 "metadata": {
  "kernelspec": {
   "display_name": "Python 3",
   "language": "python",
   "name": "python3"
  },
  "language_info": {
   "codemirror_mode": {
    "name": "ipython",
    "version": 3
   },
   "file_extension": ".py",
   "mimetype": "text/x-python",
   "name": "python",
   "nbconvert_exporter": "python",
   "pygments_lexer": "ipython3",
   "version": "3.8.3"
  }
 },
 "nbformat": 4,
 "nbformat_minor": 4
}
